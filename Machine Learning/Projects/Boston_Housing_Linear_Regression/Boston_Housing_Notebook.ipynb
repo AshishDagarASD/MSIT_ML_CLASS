{
 "cells": [
  {
   "cell_type": "markdown",
   "metadata": {},
   "source": [
    "## Linear Regression"
   ]
  },
  {
   "cell_type": "markdown",
   "metadata": {},
   "source": [
    "**Regression Problems**\n",
    "\n",
    "1. Amazon using labelled customer datat to predict whether the customer will buy the product or not?\n",
    "\n",
    "2. A medical company using data about cancer tumors(shape, radius) to predict whether the new tumor is benign(no-problem) or malignant (problem)?\n",
    "\n",
    "3. A restaurant using the review data to label the reviews positive or negative to a given review. \n",
    "\n",
    "4. A bike share company using the whether and time data to predict the number of bikes being rented at a given time? "
   ]
  },
  {
   "cell_type": "markdown",
   "metadata": {},
   "source": [
    "**Why it's linear ?**\n",
    "\n",
    "Let's try to do something with one variable?\n",
    "\n",
    "\n"
   ]
  },
  {
   "cell_type": "markdown",
   "metadata": {},
   "source": []
  },
  {
   "cell_type": "markdown",
   "metadata": {
    "collapsed": true
   },
   "source": [
    "## y = mx + c\n",
    "m = slope\n",
    "y-intercept \n"
   ]
  },
  {
   "cell_type": "code",
   "execution_count": null,
   "metadata": {
    "collapsed": true
   },
   "outputs": [],
   "source": [
    "# gradient descent error surface.png"
   ]
  },
  {
   "cell_type": "code",
   "execution_count": null,
   "metadata": {
    "collapsed": true
   },
   "outputs": [],
   "source": []
  },
  {
   "cell_type": "code",
   "execution_count": null,
   "metadata": {
    "collapsed": true
   },
   "outputs": [],
   "source": []
  },
  {
   "cell_type": "markdown",
   "metadata": {},
   "source": [
    "**How to calculate the error?**\n",
    "![](/Users/t0mkaka/Training/day3/images/residuals.png)"
   ]
  },
  {
   "cell_type": "code",
   "execution_count": 1,
   "metadata": {
    "collapsed": true
   },
   "outputs": [],
   "source": [
    "import pandas as pd\n",
    "import numpy as np \n"
   ]
  },
  {
   "cell_type": "code",
   "execution_count": null,
   "metadata": {
    "collapsed": true
   },
   "outputs": [],
   "source": []
  },
  {
   "cell_type": "code",
   "execution_count": 12,
   "metadata": {
    "scrolled": true
   },
   "outputs": [
    {
     "data": {
      "text/html": [
       "<div>\n",
       "<style>\n",
       "    .dataframe thead tr:only-child th {\n",
       "        text-align: right;\n",
       "    }\n",
       "\n",
       "    .dataframe thead th {\n",
       "        text-align: left;\n",
       "    }\n",
       "\n",
       "    .dataframe tbody tr th {\n",
       "        vertical-align: top;\n",
       "    }\n",
       "</style>\n",
       "<table border=\"1\" class=\"dataframe\">\n",
       "  <thead>\n",
       "    <tr style=\"text-align: right;\">\n",
       "      <th></th>\n",
       "      <th>RM</th>\n",
       "      <th>LSTAT</th>\n",
       "      <th>PTRATIO</th>\n",
       "      <th>MEDV</th>\n",
       "    </tr>\n",
       "  </thead>\n",
       "  <tbody>\n",
       "    <tr>\n",
       "      <th>0</th>\n",
       "      <td>6.575</td>\n",
       "      <td>4.98</td>\n",
       "      <td>15.3</td>\n",
       "      <td>504000.0</td>\n",
       "    </tr>\n",
       "    <tr>\n",
       "      <th>1</th>\n",
       "      <td>6.421</td>\n",
       "      <td>9.14</td>\n",
       "      <td>17.8</td>\n",
       "      <td>453600.0</td>\n",
       "    </tr>\n",
       "    <tr>\n",
       "      <th>2</th>\n",
       "      <td>7.185</td>\n",
       "      <td>4.03</td>\n",
       "      <td>17.8</td>\n",
       "      <td>728700.0</td>\n",
       "    </tr>\n",
       "    <tr>\n",
       "      <th>3</th>\n",
       "      <td>6.998</td>\n",
       "      <td>2.94</td>\n",
       "      <td>18.7</td>\n",
       "      <td>701400.0</td>\n",
       "    </tr>\n",
       "    <tr>\n",
       "      <th>4</th>\n",
       "      <td>7.147</td>\n",
       "      <td>5.33</td>\n",
       "      <td>18.7</td>\n",
       "      <td>760200.0</td>\n",
       "    </tr>\n",
       "  </tbody>\n",
       "</table>\n",
       "</div>"
      ],
      "text/plain": [
       "      RM  LSTAT  PTRATIO      MEDV\n",
       "0  6.575   4.98     15.3  504000.0\n",
       "1  6.421   9.14     17.8  453600.0\n",
       "2  7.185   4.03     17.8  728700.0\n",
       "3  6.998   2.94     18.7  701400.0\n",
       "4  7.147   5.33     18.7  760200.0"
      ]
     },
     "execution_count": 12,
     "metadata": {},
     "output_type": "execute_result"
    }
   ],
   "source": [
    "data = pd.read_csv('../../../datasets/boston_housing.csv')\n",
    "data.head()"
   ]
  },
  {
   "cell_type": "code",
   "execution_count": 13,
   "metadata": {
    "collapsed": true
   },
   "outputs": [],
   "source": [
    "\n",
    "data = data.values\n",
    "X = data[:,:3]\n",
    "y = data[:,-1]"
   ]
  },
  {
   "cell_type": "code",
   "execution_count": 15,
   "metadata": {},
   "outputs": [
    {
     "name": "stdout",
     "output_type": "stream",
     "text": [
      "(342, 3)\n",
      "(342,)\n",
      "[ 492436.57374716  369645.98474997  444326.58002586  362648.51029238\n",
      "  -31760.37884705  357044.41122693  395649.20313284  416604.08843106\n",
      "  458923.88219809  357987.04580971  565177.07531594  444755.02292608\n",
      "  626479.99120085  609433.09707699  367384.25812308  459707.27446289\n",
      "  553877.69192294  429041.896887    391210.67925966  640721.71019109\n",
      "  477157.8201625   627924.74125478  575309.82406676  219937.88958415\n",
      "  398257.64872947  525547.10736435  515341.06914278  532658.76115626\n",
      "  355019.31424338  403841.14608182  499003.43682366  626773.25185428\n",
      "  614061.41411275  418668.91184337  354361.77178834  467507.23533533\n",
      "  560456.84676592  541569.35213123   10925.78182886  370465.27249921\n",
      "  371448.03423357  246090.97288666  386987.31347602  456975.17623363\n",
      "  457402.66091845  224877.62212827  337312.09121469  757318.93537502\n",
      "  340396.87661844  514931.64163876  695048.7286099   310471.83782091\n",
      "  353314.13078813  369736.07312611  317355.74599513  399878.28880984\n",
      "  337821.72424799  495871.72342066  527011.01246126  294921.61734387\n",
      "  107041.38520442  397497.90659671  424922.92325532  527898.26533133\n",
      "  233572.9515285   501374.45505792  561054.02219028  472767.76807317\n",
      "  503599.50246049  673254.59770416  254321.92604963  416973.94191776\n",
      "  392277.92566671  751656.71067937  633356.03049285  559565.50388792\n",
      "  273865.84353448  413270.39722772  720558.81393621  408569.84087167\n",
      "  298718.96856971  668037.17641698  133409.77092296  305087.52672283\n",
      "  500312.31258772  537302.01773773  617718.39699585  471501.09106535\n",
      "  489014.92236693  334000.08931096  258827.27974542  374150.25360966\n",
      "  334299.88860464  520997.92130025  418937.40542714  230374.8525111\n",
      "  504196.373062    369329.08471671  270244.95107956  408764.74605604\n",
      "  465070.55895335  573103.82262598  449518.837962    662981.86880706\n",
      "  529420.87013746  745125.37325148  517898.69611739  354744.70255556\n",
      "  321195.79088581  616607.64261848  428152.52834405  381717.70686506\n",
      "  400527.99667489  477856.11745406  475657.89021004  451248.96168796\n",
      "  193583.2905736   497011.77715451  463978.29183071  675492.55137694\n",
      "  329063.70734136  389629.55327992  415953.09682127  365669.0269691\n",
      "  413581.39172334  648948.71080217  428545.80766795  393811.30247128\n",
      "  507755.98893564  511447.91062369  617760.24208615  623141.58473364\n",
      "  646463.59983411  631850.62256453  413677.22812942  347240.01944218\n",
      "  263950.6736072   457251.38531197  427560.77340785  552532.61366084\n",
      "  408841.89315494  398053.14887749  513410.59969264  559508.81539014\n",
      "  539689.00659276  579304.11520525  450235.80030592]\n",
      "(147,)\n"
     ]
    }
   ],
   "source": [
    "from sklearn.linear_model import LinearRegression\n",
    "\n",
    "lr = LinearRegression()\n",
    "\n",
    "\n",
    "from sklearn.model_selection import train_test_split\n",
    "\n",
    "X_train, X_test, y_train, y_test = train_test_split(X,y,test_size=0.3, random_state = 24)\n",
    "print(X_train.shape)\n",
    "print(y_train.shape)\n",
    "lr.fit(X_train, y_train)\n",
    "\n",
    "predictions = lr.predict(X_test)\n",
    "print(predictions)\n",
    "print(predictions.shape)"
   ]
  },
  {
   "cell_type": "markdown",
   "metadata": {},
   "source": [
    "For more work look at [Kaggle Ames Housing Competition](https://www.kaggle.com/c/house-prices-advanced-regression-techniques)"
   ]
  },
  {
   "cell_type": "code",
   "execution_count": null,
   "metadata": {
    "collapsed": true
   },
   "outputs": [],
   "source": []
  }
 ],
 "metadata": {
  "kernelspec": {
   "display_name": "Python [conda env:carnd-term1]",
   "language": "python",
   "name": "conda-env-carnd-term1-py"
  },
  "language_info": {
   "codemirror_mode": {
    "name": "ipython",
    "version": 3
   },
   "file_extension": ".py",
   "mimetype": "text/x-python",
   "name": "python",
   "nbconvert_exporter": "python",
   "pygments_lexer": "ipython3",
   "version": "3.5.2"
  }
 },
 "nbformat": 4,
 "nbformat_minor": 2
}
